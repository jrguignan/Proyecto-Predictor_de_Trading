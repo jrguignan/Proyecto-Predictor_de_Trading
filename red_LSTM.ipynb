{
 "cells": [
  {
   "cell_type": "code",
   "execution_count": 1,
   "metadata": {},
   "outputs": [],
   "source": [
    "import yfinance as yf"
   ]
  },
  {
   "cell_type": "markdown",
   "metadata": {},
   "source": [
    "# Datasets de Bolsa de Valores\n"
   ]
  },
  {
   "cell_type": "code",
   "execution_count": 13,
   "metadata": {},
   "outputs": [
    {
     "data": {
      "text/html": [
       "<div>\n",
       "<style scoped>\n",
       "    .dataframe tbody tr th:only-of-type {\n",
       "        vertical-align: middle;\n",
       "    }\n",
       "\n",
       "    .dataframe tbody tr th {\n",
       "        vertical-align: top;\n",
       "    }\n",
       "\n",
       "    .dataframe thead th {\n",
       "        text-align: right;\n",
       "    }\n",
       "</style>\n",
       "<table border=\"1\" class=\"dataframe\">\n",
       "  <thead>\n",
       "    <tr style=\"text-align: right;\">\n",
       "      <th></th>\n",
       "      <th>Open</th>\n",
       "      <th>High</th>\n",
       "      <th>Low</th>\n",
       "      <th>Close</th>\n",
       "      <th>Volume</th>\n",
       "      <th>Dividends</th>\n",
       "      <th>Stock Splits</th>\n",
       "    </tr>\n",
       "    <tr>\n",
       "      <th>Date</th>\n",
       "      <th></th>\n",
       "      <th></th>\n",
       "      <th></th>\n",
       "      <th></th>\n",
       "      <th></th>\n",
       "      <th></th>\n",
       "      <th></th>\n",
       "    </tr>\n",
       "  </thead>\n",
       "  <tbody>\n",
       "    <tr>\n",
       "      <th>2014-09-11 00:00:00-04:00</th>\n",
       "      <td>1992.849976</td>\n",
       "      <td>1997.650024</td>\n",
       "      <td>1985.930054</td>\n",
       "      <td>1997.449951</td>\n",
       "      <td>2941690000</td>\n",
       "      <td>0.0</td>\n",
       "      <td>0.0</td>\n",
       "    </tr>\n",
       "    <tr>\n",
       "      <th>2014-09-12 00:00:00-04:00</th>\n",
       "      <td>1996.739990</td>\n",
       "      <td>1996.739990</td>\n",
       "      <td>1980.260010</td>\n",
       "      <td>1985.540039</td>\n",
       "      <td>3206570000</td>\n",
       "      <td>0.0</td>\n",
       "      <td>0.0</td>\n",
       "    </tr>\n",
       "    <tr>\n",
       "      <th>2014-09-15 00:00:00-04:00</th>\n",
       "      <td>1986.040039</td>\n",
       "      <td>1987.180054</td>\n",
       "      <td>1978.479980</td>\n",
       "      <td>1984.130005</td>\n",
       "      <td>2776530000</td>\n",
       "      <td>0.0</td>\n",
       "      <td>0.0</td>\n",
       "    </tr>\n",
       "    <tr>\n",
       "      <th>2014-09-16 00:00:00-04:00</th>\n",
       "      <td>1981.930054</td>\n",
       "      <td>2002.280029</td>\n",
       "      <td>1979.060059</td>\n",
       "      <td>1998.979980</td>\n",
       "      <td>3160310000</td>\n",
       "      <td>0.0</td>\n",
       "      <td>0.0</td>\n",
       "    </tr>\n",
       "    <tr>\n",
       "      <th>2014-09-17 00:00:00-04:00</th>\n",
       "      <td>1999.300049</td>\n",
       "      <td>2010.739990</td>\n",
       "      <td>1993.290039</td>\n",
       "      <td>2001.569946</td>\n",
       "      <td>3209420000</td>\n",
       "      <td>0.0</td>\n",
       "      <td>0.0</td>\n",
       "    </tr>\n",
       "  </tbody>\n",
       "</table>\n",
       "</div>"
      ],
      "text/plain": [
       "                                  Open         High          Low        Close  \\\n",
       "Date                                                                            \n",
       "2014-09-11 00:00:00-04:00  1992.849976  1997.650024  1985.930054  1997.449951   \n",
       "2014-09-12 00:00:00-04:00  1996.739990  1996.739990  1980.260010  1985.540039   \n",
       "2014-09-15 00:00:00-04:00  1986.040039  1987.180054  1978.479980  1984.130005   \n",
       "2014-09-16 00:00:00-04:00  1981.930054  2002.280029  1979.060059  1998.979980   \n",
       "2014-09-17 00:00:00-04:00  1999.300049  2010.739990  1993.290039  2001.569946   \n",
       "\n",
       "                               Volume  Dividends  Stock Splits  \n",
       "Date                                                            \n",
       "2014-09-11 00:00:00-04:00  2941690000        0.0           0.0  \n",
       "2014-09-12 00:00:00-04:00  3206570000        0.0           0.0  \n",
       "2014-09-15 00:00:00-04:00  2776530000        0.0           0.0  \n",
       "2014-09-16 00:00:00-04:00  3160310000        0.0           0.0  \n",
       "2014-09-17 00:00:00-04:00  3209420000        0.0           0.0  "
      ]
     },
     "execution_count": 13,
     "metadata": {},
     "output_type": "execute_result"
    }
   ],
   "source": [
    "#Guarda los valores de una accion en particular(ticke), de un periodo de tiempo en un dataframe\n",
    "#este caso es el Standard & Poor's 500 - S&P500\n",
    "sp500 = yf.Ticker(\"^GSPC\").history(period=\"10y\")\n",
    "\n",
    "#Mestra la cabecera del dataframe\n",
    "sp500.head(5)"
   ]
  }
 ],
 "metadata": {
  "kernelspec": {
   "display_name": "Python 3",
   "language": "python",
   "name": "python3"
  },
  "language_info": {
   "codemirror_mode": {
    "name": "ipython",
    "version": 3
   },
   "file_extension": ".py",
   "mimetype": "text/x-python",
   "name": "python",
   "nbconvert_exporter": "python",
   "pygments_lexer": "ipython3",
   "version": "3.11.5"
  }
 },
 "nbformat": 4,
 "nbformat_minor": 2
}
